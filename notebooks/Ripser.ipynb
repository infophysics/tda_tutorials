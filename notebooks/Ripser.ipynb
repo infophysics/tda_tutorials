{
 "cells": [
  {
   "cell_type": "markdown",
   "metadata": {},
   "source": [
    "# Topological Data Analysis\n",
    "## RIPSER\n",
    "---------------------------\n",
    "This notebook details the theory and use of the RIPSER algorithm which computes barcodes for Vietoris-Rips complexes on point clouds."
   ]
  },
  {
   "cell_type": "code",
   "execution_count": 6,
   "metadata": {},
   "outputs": [
    {
     "name": "stdout",
     "output_type": "stream",
     "text": [
      "Using anaconda environment: pygnn\n",
      "Collecting package metadata (current_repodata.json): done\n",
      "Solving environment: done\n",
      "\n",
      "# All requested packages already installed.\n",
      "\n",
      "Requirement already satisfied: ripser in /home/ncarrara/bin/anaconda3/envs/pygnn/lib/python3.8/site-packages (0.6.1)\n",
      "Requirement already satisfied: scipy in /home/ncarrara/.local/lib/python3.8/site-packages (from ripser) (1.7.1)\n",
      "Requirement already satisfied: scikit-learn in /home/ncarrara/bin/anaconda3/envs/pygnn/lib/python3.8/site-packages (from ripser) (1.0.1)\n",
      "Requirement already satisfied: persim in /home/ncarrara/bin/anaconda3/envs/pygnn/lib/python3.8/site-packages (from ripser) (0.3.1)\n",
      "Requirement already satisfied: numpy in /home/ncarrara/.local/lib/python3.8/site-packages (from ripser) (1.21.2)\n",
      "Requirement already satisfied: Cython in /home/ncarrara/bin/anaconda3/envs/pygnn/lib/python3.8/site-packages (from ripser) (0.29.24)\n",
      "Requirement already satisfied: deprecated in /home/ncarrara/bin/anaconda3/envs/pygnn/lib/python3.8/site-packages (from persim->ripser) (1.2.13)\n",
      "Requirement already satisfied: joblib in /home/ncarrara/bin/anaconda3/envs/pygnn/lib/python3.8/site-packages (from persim->ripser) (1.1.0)\n",
      "Requirement already satisfied: matplotlib in /home/ncarrara/.local/lib/python3.8/site-packages (from persim->ripser) (3.4.3)\n",
      "Requirement already satisfied: hopcroftkarp in /home/ncarrara/bin/anaconda3/envs/pygnn/lib/python3.8/site-packages (from persim->ripser) (1.2.5)\n",
      "Requirement already satisfied: wrapt<2,>=1.10 in /home/ncarrara/bin/anaconda3/envs/pygnn/lib/python3.8/site-packages (from deprecated->persim->ripser) (1.13.3)\n",
      "Requirement already satisfied: cycler>=0.10 in /home/ncarrara/.local/lib/python3.8/site-packages (from matplotlib->persim->ripser) (0.10.0)\n",
      "Requirement already satisfied: pyparsing>=2.2.1 in /home/ncarrara/.local/lib/python3.8/site-packages (from matplotlib->persim->ripser) (2.4.7)\n",
      "Requirement already satisfied: python-dateutil>=2.7 in /home/ncarrara/bin/anaconda3/envs/pygnn/lib/python3.8/site-packages (from matplotlib->persim->ripser) (2.8.2)\n",
      "Requirement already satisfied: pillow>=6.2.0 in /home/ncarrara/bin/anaconda3/envs/pygnn/lib/python3.8/site-packages (from matplotlib->persim->ripser) (8.4.0)\n",
      "Requirement already satisfied: kiwisolver>=1.0.1 in /home/ncarrara/.local/lib/python3.8/site-packages (from matplotlib->persim->ripser) (1.3.2)\n",
      "Requirement already satisfied: six in /home/ncarrara/bin/anaconda3/envs/pygnn/lib/python3.8/site-packages (from cycler>=0.10->matplotlib->persim->ripser) (1.16.0)\n",
      "Requirement already satisfied: threadpoolctl>=2.0.0 in /home/ncarrara/bin/anaconda3/envs/pygnn/lib/python3.8/site-packages (from scikit-learn->ripser) (3.0.0)\n"
     ]
    }
   ],
   "source": [
    "# install packages if they're not already\n",
    "import sys\n",
    "sys.path.append(\"figs/\")\n",
    "import os\n",
    "print (\"Using anaconda environment: {}\".format(os.environ['CONDA_DEFAULT_ENV']))\n",
    "!conda install --yes --prefix {sys.prefix} -c numpy scipy matplotlib pandas \\\n",
    "    scikit-learn scikit-learn-intelex\n",
    "!pip install ripser"
   ]
  },
  {
   "cell_type": "code",
   "execution_count": null,
   "metadata": {},
   "outputs": [],
   "source": []
  }
 ],
 "metadata": {
  "interpreter": {
   "hash": "31f2aee4e71d21fbe5cf8b01ff0e069b9275f58929596ceb00d14d90e3e16cd6"
  },
  "kernelspec": {
   "display_name": "Python 3.8.10 64-bit",
   "language": "python",
   "name": "python3"
  },
  "language_info": {
   "codemirror_mode": {
    "name": "ipython",
    "version": 3
   },
   "file_extension": ".py",
   "mimetype": "text/x-python",
   "name": "python",
   "nbconvert_exporter": "python",
   "pygments_lexer": "ipython3",
   "version": "3.8.12"
  },
  "orig_nbformat": 4
 },
 "nbformat": 4,
 "nbformat_minor": 2
}
